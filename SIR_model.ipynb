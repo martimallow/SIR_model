{
 "cells": [
  {
   "cell_type": "markdown",
   "metadata": {},
   "source": [
    "<br>Neste trabalho, modelaremos doenças epidemiológicas como sarampo ou gripe suína. \n",
    "Suponha que tenhamos três categorias de pessoas: \n",
    "> **suscetíveis** (S) que podem contrair a doença;\n",
    "<br> **infectados** (I) que desenvolveram a doença e que podem infectar suscetíveis e\n",
    "<br> **recuperados** (R) que se recuperaram da doença e se tornam imunes.\n",
    "\n",
    "<br>Seja $S(t), I(t)$ e $R(t)$ o número de pessoas nas categorias S, I e R, respectivamente. \n",
    "Temos que $ S + I + R = N $, onde $ N $ é o tamanho da população, assumida aqui constante por simplicidade.\n",
    "\n",
    "<br>Quando as pessoas se misturam na população, existem $S \\times I$ possíveis pares de suscetíveis e infectados, e uma certa fração $\\beta \\times S \\times I $ por intervalo de tempo se encontra com o resultado de que os infectados infectam \"com sucesso\" os suscetíveis.\n",
    "\n",
    "<br>Durante um intervalo de tempo $\\Delta t$, $\\beta \\times S \\times I \\times \\delta t$ são infectadas e saem da categoria S para categoria I\n",
    "<center> $S(t + \\Delta t) = S(t) - \\beta \\times S \\times I \\times \\Delta t$\n",
    "    \n",
    "<br>Nos dividimos por $\\Delta t$ e fazemos $\\Delta \\rightarrow 0$ para obeter a equação diferencial\n",
    "<center> $S'(t) = -\\beta \\times S \\times I$ \n",
    "   \n",
    "<br>Uma fração $v \\times I$ por tempo dos infectados irão se recuperar da doença.\n",
    "<br>Em um tempo $\\Delta t$, $v \\times I \\times \\Delta t$ se recuperam e se movem da categoria I para a categoria R.\n",
    "<br>A quantidade $1/v$ tipicamente reflete a duração da doença. \n",
    "\n",
    "<br>No mesmo intervalo de tempo, $\\beta \\times S \\times I \\times \\Delta t$ saem da categoria S para categoria I.\n",
    "\n",
    "<br>A contabilização da categoria I torna-se, portanto,\n",
    "<center> $I(t + \\Delta t) = I(t) + \\beta \\times S \\times I \\times \\Delta t - v \\times I \\times \\Delta t$ \n",
    "\n",
    "<br>A qual no limite $\\Delta t \\rightarrow 0$ se torna a equação diferencial\n",
    "<center> $ I'(t) = \\beta \\times S \\times I - v \\times I $\n",
    "    \n",
    "<br>Finalmente, a categoria R recebe contribuições da categoria I\n",
    "<center> $R(t + \\Delta t) = R(t) + v \\times I \\times \\Delta t$\n",
    "    \n",
    "<br>A equação diferencial ordinaria correspondente para R se torna\n",
    "<center> $R'(t) = v \\times I$\n",
    "    \n",
    "<br>Caso os recuperados não se tornem imunes, nós nao precisamos da categoria recuperados, já que os recuperados vão da categoria I diretamente para a categoria S novamente. Isso dá uma contribuição $v \\times I$ para a equação de S e nós terminamos com um sistema $S - I$"
   ]
  },
  {
   "cell_type": "markdown",
   "metadata": {},
   "source": [
    "#### 1. Faça uma função para resolver as equações diferenciais no modelo SIR por qualquer método numérico de sua escolha. Crie uma função separada para visualizar $S(t), I(t) e R(t)$ no mesmo gráfico. etc..."
   ]
  }
 ],
 "metadata": {
  "kernelspec": {
   "display_name": "Python 3",
   "language": "python",
   "name": "python3"
  },
  "language_info": {
   "codemirror_mode": {
    "name": "ipython",
    "version": 3
   },
   "file_extension": ".py",
   "mimetype": "text/x-python",
   "name": "python",
   "nbconvert_exporter": "python",
   "pygments_lexer": "ipython3",
   "version": "3.7.4"
  }
 },
 "nbformat": 4,
 "nbformat_minor": 2
}
